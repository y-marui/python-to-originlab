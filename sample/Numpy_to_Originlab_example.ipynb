{
 "cells": [
  {
   "cell_type": "code",
   "execution_count": 1,
   "metadata": {},
   "outputs": [],
   "source": [
    "import numpy as np\n",
    "import matplotlib.pyplot as plt\n",
    "import os\n",
    "%matplotlib inline\n",
    "import win32com.client\n",
    "import py2origin as py2o"
   ]
  },
  {
   "cell_type": "code",
   "execution_count": 2,
   "metadata": {},
   "outputs": [
    {
     "name": "stdout",
     "output_type": "stream",
     "text": [
      "data\n",
      "None\n"
     ]
    }
   ],
   "source": [
    "x = np.arange(-10,10.1,0.1)\n",
    "y = np.cos(x)\n",
    "y2 = np.sin(x)\n",
    "y3 = np.tan(x)\n",
    "\n",
    "data = np.array((x,y,y2))\n",
    "header = ['x','cos(x)','sin(x)']\n",
    "origin,wb,ws = py2o.numpy_to_origin(\n",
    "    data,column_axis=0,\n",
    "    long_names=header,\n",
    "    origin_version=2018,\n",
    "    worksheet_name='Trig functions',\n",
    "    workbook_name='data')"
   ]
  },
  {
   "cell_type": "code",
   "execution_count": 3,
   "metadata": {},
   "outputs": [
    {
     "data": {
      "text/plain": [
       "'Trig'"
      ]
     },
     "execution_count": 3,
     "metadata": {},
     "output_type": "execute_result"
    }
   ],
   "source": [
    "py2o.createGraph_multiwks(origin,\n",
    "                          'Trig','Spectra_Wide.otp',\n",
    "                          os.path.abspath('OriginTemplates'),\n",
    "                          [ws],[0,0],[1,2],['Sym','Line'])"
   ]
  },
  {
   "cell_type": "code",
   "execution_count": 4,
   "metadata": {},
   "outputs": [
    {
     "data": {
      "text/plain": [
       "True"
      ]
     },
     "execution_count": 4,
     "metadata": {},
     "output_type": "execute_result"
    }
   ],
   "source": [
    "origin.Exit()"
   ]
  }
 ],
 "metadata": {
  "kernelspec": {
   "display_name": "Python (oled)",
   "language": "python",
   "name": "oled"
  },
  "language_info": {
   "codemirror_mode": {
    "name": "ipython",
    "version": 3
   },
   "file_extension": ".py",
   "mimetype": "text/x-python",
   "name": "python",
   "nbconvert_exporter": "python",
   "pygments_lexer": "ipython3",
   "version": "3.7.3"
  },
  "toc": {
   "base_numbering": 1,
   "nav_menu": {},
   "number_sections": true,
   "sideBar": true,
   "skip_h1_title": false,
   "title_cell": "Table of Contents",
   "title_sidebar": "Contents",
   "toc_cell": false,
   "toc_position": {},
   "toc_section_display": true,
   "toc_window_display": false
  }
 },
 "nbformat": 4,
 "nbformat_minor": 2
}
